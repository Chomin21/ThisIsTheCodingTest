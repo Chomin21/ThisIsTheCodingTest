{
 "cells": [
  {
   "cell_type": "code",
   "execution_count": 19,
   "metadata": {},
   "outputs": [
    {
     "name": "stdout",
     "output_type": "stream",
     "text": [
      "[1, 2, 3, 4, 5]\n",
      "[3, 4, 2, 1, 5]\n",
      "[4, 1, 2, 3, 5]\n"
     ]
    }
   ],
   "source": [
    "#실패율\n",
    "#failure rate\n",
    "#my solution\n",
    "#합계 100, 1051\n",
    "#계수 정렬 사용\n",
    "\n",
    "def solution(N, array):\n",
    "    count = [0] * (N + 1)\n",
    "    dic = {}\n",
    "    for i in range(len(array)):\n",
    "        count[array[i]-1] += 1\n",
    "    \n",
    "    num = len(array)\n",
    "    for k in range(1, len(count)):\n",
    "        #스테이지를 클리어한 사람이 없는 경우\n",
    "        if num == 0:\n",
    "            dic[k] = 0\n",
    "            continue\n",
    "        dic[k] = count[k - 1] / num\n",
    "        num -= count[k - 1]\n",
    "    \n",
    "    answer = [key for (key, value) in sorted(dic.items(), reverse = True, key = lambda x : x[1])]\n",
    "    \n",
    "    return answer\n",
    "    \n",
    "print(solution(5, []))\n",
    "print(solution(5, [2,1,2,6,2,4,3,3]))\n",
    "print(solution(5, [4,4,4,4,4]))"
   ]
  },
  {
   "cell_type": "code",
   "execution_count": null,
   "metadata": {},
   "outputs": [],
   "source": []
  }
 ],
 "metadata": {
  "kernelspec": {
   "display_name": "Python 3",
   "language": "python",
   "name": "python3"
  },
  "language_info": {
   "codemirror_mode": {
    "name": "ipython",
    "version": 3
   },
   "file_extension": ".py",
   "mimetype": "text/x-python",
   "name": "python",
   "nbconvert_exporter": "python",
   "pygments_lexer": "ipython3",
   "version": "3.8.2"
  }
 },
 "nbformat": 4,
 "nbformat_minor": 5
}
