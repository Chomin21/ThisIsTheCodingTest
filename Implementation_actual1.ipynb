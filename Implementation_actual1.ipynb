{
 "cells": [
  {
   "cell_type": "code",
   "execution_count": 9,
   "id": "legislative-friendship",
   "metadata": {},
   "outputs": [
    {
     "name": "stdout",
     "output_type": "stream",
     "text": [
      "a1\n",
      "2\n"
     ]
    }
   ],
   "source": [
    "#Royal knight\n",
    "#my solution\n",
    "step = [[-2, -1], [-2, 1], [2, -1], [2, 1], [-1, 2], [-1, -2], [1, 2], [1, -2]]\n",
    "\n",
    "location = list(input()) #a1\n",
    "\n",
    "if 'a' in location:\n",
    "    location[0] = 1\n",
    "elif 'b' in location:\n",
    "    location[0] = 2\n",
    "elif 'c' in location:\n",
    "    location[0] = 3\n",
    "elif 'd' in location:\n",
    "    location[0] = 4\n",
    "elif 'e' in location:\n",
    "    location[0] = 5\n",
    "elif 'f' in location:\n",
    "    location[0] = 6\n",
    "elif 'g' in location:\n",
    "    location[0] = 7\n",
    "elif 'h' in location:\n",
    "    location[0] = 8\n",
    "\n",
    "location = list(map(int, location)) \n",
    "\n",
    "count = 0\n",
    "\n",
    "total = [int(i) for i in range(1,9)]\n",
    "\n",
    "for k in step:\n",
    "    if ((location[0] + k[0]) not in total) or ((location[1] + k[1]) not in total):\n",
    "        continue\n",
    "#위 if문과 동일\n",
    "#    if (location[0] + k[0]) > 8 or (location[1] + k[1]) > 8 or (location[0] + k[0]) < 1 or (location[1] + k[1]) < 1:\n",
    "#       continue\n",
    "    else:\n",
    "        count += 1\n",
    "\n",
    "print(count)"
   ]
  },
  {
   "cell_type": "code",
   "execution_count": null,
   "id": "practical-concentration",
   "metadata": {},
   "outputs": [],
   "source": [
    "#book solution\n",
    "\n",
    "input_data = input() #'a1'\n",
    "row = int(input_data[1]) #1\n",
    "column = int(ord(input_data[0])) - int(ord('a')) + 1 #ord : 입력된 문자의 아스키코드값 반환하는 함수.\n",
    "\n",
    "#나이트가 이동할 수 있는 8가지 방향 정의\n",
    "steps = [\n",
    "    (-2, -1), (-1, -2), (1, -2), (2, -1),\n",
    "    (2, 1), (1, 2), (-1, 2), (-2, 1)\n",
    "]\n",
    "\n",
    "#8가지 방향에 대하여 각 위치로 이동이 가능한지 확인\n",
    "result = 0\n",
    "for step in steps:\n",
    "    #이동하고자 하는 위치 확인\n",
    "    next_row = row + step[0]\n",
    "    next_column = column + step[1]\n",
    "    #해당 위치로 이동이 가능하다면 카운트 증가\n",
    "    if next_row >= 1 and next_row <= 8 and next_column >= 1 and next_column <= 8:\n",
    "        result += 1\n",
    "print(result)\n",
    "    "
   ]
  }
 ],
 "metadata": {
  "kernelspec": {
   "display_name": "Python 3",
   "language": "python",
   "name": "python3"
  },
  "language_info": {
   "codemirror_mode": {
    "name": "ipython",
    "version": 3
   },
   "file_extension": ".py",
   "mimetype": "text/x-python",
   "name": "python",
   "nbconvert_exporter": "python",
   "pygments_lexer": "ipython3",
   "version": "3.9.1"
  }
 },
 "nbformat": 4,
 "nbformat_minor": 5
}
