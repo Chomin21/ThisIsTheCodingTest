{
 "cells": [
  {
   "cell_type": "code",
   "execution_count": 6,
   "id": "wooden-qatar",
   "metadata": {},
   "outputs": [
    {
     "name": "stdout",
     "output_type": "stream",
     "text": [
      "3\n",
      "15\n",
      "27\n",
      "12\n",
      "[15, 27, 12]\n",
      "27 15 12 "
     ]
    }
   ],
   "source": [
    "#위에서 아래로\n",
    "#from top to bottom\n",
    "\n",
    "#my solution\n",
    "N = int(input())\n",
    "num_list = list()\n",
    "\n",
    "for i in range(N):\n",
    "    num_list.append(int(input()))\n",
    "    \n",
    "print(num_list)\n",
    "\n",
    "def quick_sort(array):\n",
    "    if len(array) <= 0:\n",
    "        return array\n",
    "    pivot = array[0]\n",
    "    tail = array[1:]\n",
    "    \n",
    "    left_side = [x for x in tail if pivot <= x]\n",
    "    right_side = [x for x in tail if pivot > x]\n",
    "    \n",
    "    return quick_sort(left_side) + [pivot] + quick_sort(right_side)\n",
    "\n",
    "num_list = quick_sort(num_list)\n",
    "for t in num_list:\n",
    "    print(t, end = ' ')"
   ]
  },
  {
   "cell_type": "code",
   "execution_count": null,
   "id": "square-anderson",
   "metadata": {},
   "outputs": [],
   "source": [
    "#book solution\n",
    "\n",
    "#N을 입력받기\n",
    "n = int(input())\n",
    "\n",
    "#N개의 정수를 입력받아 리스트에 저장\n",
    "array = []\n",
    "for i in range(n):\n",
    "    array.append(int(input()))\n",
    "    \n",
    "#파이썬 기본 정렬 라이브러리를 이용하여 정렬 수행\n",
    "array = sorted(array, reverse = True)\n",
    "\n",
    "#정렬이 수행된 결과를 출력\n",
    "for i in array:\n",
    "    print(i, end = ' ')"
   ]
  }
 ],
 "metadata": {
  "kernelspec": {
   "display_name": "Python 3",
   "language": "python",
   "name": "python3"
  },
  "language_info": {
   "codemirror_mode": {
    "name": "ipython",
    "version": 3
   },
   "file_extension": ".py",
   "mimetype": "text/x-python",
   "name": "python",
   "nbconvert_exporter": "python",
   "pygments_lexer": "ipython3",
   "version": "3.9.1"
  }
 },
 "nbformat": 4,
 "nbformat_minor": 5
}
