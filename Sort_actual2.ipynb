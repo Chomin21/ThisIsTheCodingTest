{
 "cells": [
  {
   "cell_type": "code",
   "execution_count": 3,
   "id": "empty-sussex",
   "metadata": {},
   "outputs": [
    {
     "name": "stdout",
     "output_type": "stream",
     "text": [
      "2\n",
      "홍길동 95\n",
      "이순신 77\n",
      "[['홍길동', '95'], ['이순신', '77']]\n",
      "이순신 홍길동 "
     ]
    }
   ],
   "source": [
    "#성적이 낮은 순서로 학생 출력하기\n",
    "#print out students in a lower order\n",
    "#my solution\n",
    "\n",
    "N = int(input())\n",
    "\n",
    "info = []\n",
    "for i in range(N):\n",
    "    info.append(list(input().split()))\n",
    "    \n",
    "info.sort(key = lambda x : x[1])\n",
    "\n",
    "for t in range(N):\n",
    "    print(info[t][0], end = ' ')"
   ]
  },
  {
   "cell_type": "code",
   "execution_count": null,
   "id": "latest-fifth",
   "metadata": {},
   "outputs": [],
   "source": [
    "#book solution\n",
    "\n",
    "#N을 입력받기\n",
    "n = int(input())\n",
    "\n",
    "#N명의 학생 정보를 입력받아 리스트에 저장\n",
    "array = []\n",
    "for i in range(n):\n",
    "    input_data = input().split()\n",
    "    #이름은 문자열 그대로, 점수는 정수형으로 변환하여 저장\n",
    "    array.append((input_data[0], int(input_data[1])))\n",
    "\n",
    "#키(key)를 이용하여, 점수를 기준으로 정렬\n",
    "array = sorted(array, key = lambda student:student[1])\n",
    "\n",
    "#정렬이 수행된 결과를 출력\n",
    "for student in array:\n",
    "    print(student[0], end = ' ')"
   ]
  }
 ],
 "metadata": {
  "kernelspec": {
   "display_name": "Python 3",
   "language": "python",
   "name": "python3"
  },
  "language_info": {
   "codemirror_mode": {
    "name": "ipython",
    "version": 3
   },
   "file_extension": ".py",
   "mimetype": "text/x-python",
   "name": "python",
   "nbconvert_exporter": "python",
   "pygments_lexer": "ipython3",
   "version": "3.9.1"
  }
 },
 "nbformat": 4,
 "nbformat_minor": 5
}
