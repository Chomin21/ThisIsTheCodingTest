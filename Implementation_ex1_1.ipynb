{
 "cells": [
  {
   "cell_type": "code",
   "execution_count": 5,
   "id": "gothic-queensland",
   "metadata": {},
   "outputs": [
    {
     "name": "stdout",
     "output_type": "stream",
     "text": [
      "5\n",
      "R R R U D D\n",
      "['R', 'R', 'R', 'U', 'D', 'D']\n",
      "3 4\n"
     ]
    }
   ],
   "source": [
    "#up down left right\n",
    "#my solution\n",
    "\n",
    "#입력받기\n",
    "size = int(input())\n",
    "move = list(input().split())\n",
    "\n",
    "#시작 위치\n",
    "start = [1,1]\n",
    "\n",
    "#이동계획 확인\n",
    "for i in move:\n",
    "    if i == 'R':\n",
    "        start[1] += 1\n",
    "        if start[1] > size:\n",
    "            start[1] = size\n",
    "    elif i == 'L':\n",
    "        start[1] -= 1\n",
    "        if start[1] < 0:\n",
    "            start[1] = 1\n",
    "    elif i == 'U':\n",
    "        start[0] -= 1\n",
    "        if start[0] < 1:\n",
    "            start[0] = 1\n",
    "    elif i == 'D':\n",
    "        start[0] += 1\n",
    "        if start[0] > size:\n",
    "            start[0] = size\n",
    "\n",
    "print(start[0], start[1])"
   ]
  },
  {
   "cell_type": "code",
   "execution_count": 7,
   "id": "friendly-stations",
   "metadata": {},
   "outputs": [
    {
     "name": "stdout",
     "output_type": "stream",
     "text": [
      "5\n",
      "R R R U D D\n",
      "['R', 'R', 'R', 'U', 'D', 'D']\n",
      "3 4\n"
     ]
    }
   ],
   "source": [
    "#book solution\n",
    "\n",
    "#N 입려받기\n",
    "n = int(input())\n",
    "x, y = 1, 1\n",
    "plans = input().split()\n",
    "#print(plans) #리스트로 출력됨\n",
    "\n",
    "#L, R, U, D에 따른 이동 방향\n",
    "dx = [0, 0, -1, 1]\n",
    "dy = [-1, 1, 0, 0]\n",
    "move_types = ['L', 'R', 'U', 'D']\n",
    "\n",
    "#이동계획을 하나씩 확인\n",
    "for plan in plans:\n",
    "    #이동 후 좌표구하기\n",
    "    #좌표 종류에 대해 반복문을 돌리면서 같은 요소 찾아냄. \n",
    "    #dx, dy, move_types의 요소 위치 모두 동일.\n",
    "    for i in range (len(move_types)):\n",
    "        if plan == move_types[i]:\n",
    "            nx = x + dx[i]\n",
    "            ny = y + dy[i]\n",
    "    #공간을 벗어나는 경우 무시\n",
    "    if nx < 1 or ny < 1 or nx > n or ny > n:\n",
    "        continue\n",
    "    #위의 조건을 통과한 경우만 x, y의 값을 바꿔줌.\n",
    "    x, y = nx, ny\n",
    "\n",
    "print(x, y)"
   ]
  },
  {
   "cell_type": "code",
   "execution_count": null,
   "id": "naked-acrobat",
   "metadata": {},
   "outputs": [],
   "source": []
  }
 ],
 "metadata": {
  "kernelspec": {
   "display_name": "Python 3",
   "language": "python",
   "name": "python3"
  },
  "language_info": {
   "codemirror_mode": {
    "name": "ipython",
    "version": 3
   },
   "file_extension": ".py",
   "mimetype": "text/x-python",
   "name": "python",
   "nbconvert_exporter": "python",
   "pygments_lexer": "ipython3",
   "version": "3.9.1"
  }
 },
 "nbformat": 4,
 "nbformat_minor": 5
}
