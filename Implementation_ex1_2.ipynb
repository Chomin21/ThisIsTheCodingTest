{
 "cells": [
  {
   "cell_type": "code",
   "execution_count": 3,
   "id": "tired-geometry",
   "metadata": {},
   "outputs": [
    {
     "name": "stdout",
     "output_type": "stream",
     "text": [
      "5\n",
      "11475\n"
     ]
    }
   ],
   "source": [
    "#Time\n",
    "#my solution\n",
    "\n",
    "n = int(input())\n",
    "count = 0\n",
    "\n",
    "#분, 초 세기\n",
    "for h in range(n+1):\n",
    "    for m in range(60):\n",
    "        for s in range(60):\n",
    "            if '3' in str(h) or '3' in str(m) or '3' in str(s):\n",
    "                count += 1\n",
    "\n",
    "print(count)"
   ]
  },
  {
   "cell_type": "code",
   "execution_count": null,
   "id": "underlying-content",
   "metadata": {},
   "outputs": [],
   "source": [
    "#book solution\n",
    "\n",
    "n = int(input())\n",
    "count = 0\n",
    "\n",
    "#분, 초 세기\n",
    "for h in range(n+1):\n",
    "    for m in range(60):\n",
    "        for s in range(60):\n",
    "            if '3' in str(h) + str(m) + str(s):\n",
    "                count += 1\n",
    "\n",
    "print(count)"
   ]
  }
 ],
 "metadata": {
  "kernelspec": {
   "display_name": "Python 3",
   "language": "python",
   "name": "python3"
  },
  "language_info": {
   "codemirror_mode": {
    "name": "ipython",
    "version": 3
   },
   "file_extension": ".py",
   "mimetype": "text/x-python",
   "name": "python",
   "nbconvert_exporter": "python",
   "pygments_lexer": "ipython3",
   "version": "3.9.1"
  }
 },
 "nbformat": 4,
 "nbformat_minor": 5
}
