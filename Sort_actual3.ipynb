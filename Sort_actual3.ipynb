{
 "cells": [
  {
   "cell_type": "code",
   "execution_count": 4,
   "id": "after-benjamin",
   "metadata": {},
   "outputs": [
    {
     "name": "stdout",
     "output_type": "stream",
     "text": [
      "5 3\n",
      "1 2 5 4 3\n",
      "5 5 6 6 5\n",
      "26\n"
     ]
    }
   ],
   "source": [
    "#두 배열의 원소 교체\n",
    "#replace elements in two arrays\n",
    "#my solution\n",
    "\n",
    "N, K = map(int, input().split())\n",
    "\n",
    "A = list(map(int, input().split()))\n",
    "B = list(map(int, input().split()))\n",
    "\n",
    "A.sort()\n",
    "B.sort(reverse = True)\n",
    "\n",
    "for i in range(K):\n",
    "    if A[i] >= B[i]:\n",
    "        print(sum(A))\n",
    "        break\n",
    "    A[i], B[i] = B[i], A[i]\n",
    "print(sum(A))   \n",
    "    "
   ]
  },
  {
   "cell_type": "code",
   "execution_count": 5,
   "id": "rising-endorsement",
   "metadata": {},
   "outputs": [
    {
     "name": "stdout",
     "output_type": "stream",
     "text": [
      "5 3\n",
      "1 2 5 4 3\n",
      "5 5 6 6 5\n",
      "26\n"
     ]
    }
   ],
   "source": [
    "#book solution\n",
    "\n",
    "N, K = map(int, input().split())\n",
    "\n",
    "A = list(map(int, input().split()))\n",
    "B = list(map(int, input().split()))\n",
    "\n",
    "A.sort()\n",
    "B.sort(reverse = True)\n",
    "\n",
    "for i in range(K):\n",
    "    if A[i] < B[i]:\n",
    "        A[i], B[i] = B[i], A[i]\n",
    "    else:\n",
    "        break\n",
    "    \n",
    "print(sum(A)) "
   ]
  },
  {
   "cell_type": "code",
   "execution_count": null,
   "id": "metropolitan-pathology",
   "metadata": {},
   "outputs": [],
   "source": []
  }
 ],
 "metadata": {
  "kernelspec": {
   "display_name": "Python 3",
   "language": "python",
   "name": "python3"
  },
  "language_info": {
   "codemirror_mode": {
    "name": "ipython",
    "version": 3
   },
   "file_extension": ".py",
   "mimetype": "text/x-python",
   "name": "python",
   "nbconvert_exporter": "python",
   "pygments_lexer": "ipython3",
   "version": "3.9.1"
  }
 },
 "nbformat": 4,
 "nbformat_minor": 5
}
