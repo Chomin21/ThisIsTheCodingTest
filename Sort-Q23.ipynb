{
 "cells": [
  {
   "cell_type": "code",
   "execution_count": 5,
   "metadata": {},
   "outputs": [
    {
     "name": "stdout",
     "output_type": "stream",
     "text": [
      "12\n",
      "Jungku 50 60 100\n",
      "Sangkeun 80 60 50\n",
      "Sunyoung 80 70 100\n",
      "Soong 50 60 90\n",
      "Haebin 50 60 100\n",
      "Kangsoo 60 80 100\n",
      "Donghyuk 80 60 100\n",
      "Sei 70 70 70\n",
      "Wonseob 70 70 90\n",
      "Sanghyun 70 70 80\n",
      "nsj 80 80 80\n",
      "Taewhan 50 60 90\n",
      "Donghyuk\n",
      "Sangkeun\n",
      "Sunyoung\n",
      "nsj\n",
      "Wonseob\n",
      "Sanghyun\n",
      "Sei\n",
      "Kangsoo\n",
      "Haebin\n",
      "Jungku\n",
      "Soong\n",
      "Taewhan\n"
     ]
    }
   ],
   "source": [
    "#국영수\n",
    "#Korean, English, and Math\n",
    "#my solution\n",
    "\n",
    "N = int(input())\n",
    "student_list = []\n",
    "\n",
    "for i in range(N):\n",
    "    temp = input().split()\n",
    "    student_list.append([temp[0], int(temp[1]), int(temp[2]), int(temp[3])])\n",
    "    \n",
    "student_list.sort(key = lambda x : (-x[1], x[2], -x[3], x[0]))\n",
    "\n",
    "for t in range(N):\n",
    "    print(student_list[t][0])"
   ]
  },
  {
   "cell_type": "code",
   "execution_count": null,
   "metadata": {},
   "outputs": [],
   "source": []
  }
 ],
 "metadata": {
  "kernelspec": {
   "display_name": "Python 3",
   "language": "python",
   "name": "python3"
  },
  "language_info": {
   "codemirror_mode": {
    "name": "ipython",
    "version": 3
   },
   "file_extension": ".py",
   "mimetype": "text/x-python",
   "name": "python",
   "nbconvert_exporter": "python",
   "pygments_lexer": "ipython3",
   "version": "3.8.2"
  }
 },
 "nbformat": 4,
 "nbformat_minor": 5
}
