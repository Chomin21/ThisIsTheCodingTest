{
 "cells": [
  {
   "cell_type": "code",
   "execution_count": 8,
   "metadata": {},
   "outputs": [
    {
     "name": "stdout",
     "output_type": "stream",
     "text": [
      "5\n",
      "-15 -6 1 3 7\n",
      "3\n"
     ]
    }
   ],
   "source": [
    "def binary(array):\n",
    "    start = 0\n",
    "    end = len(array) - 1\n",
    "    \n",
    "    while start <= end:\n",
    "        mid = (start + end) // 2\n",
    "        \n",
    "        if mid == array[mid]:\n",
    "            return mid\n",
    "        #오른쪽 탐색\n",
    "        elif array[mid] < mid:\n",
    "            start = mid + 1\n",
    "        #왼쪽 탐색\n",
    "        else:\n",
    "            end = mid - 1\n",
    "    return -1\n",
    "            \n",
    "N = int(input())\n",
    "N_list = list(map(int, input().split()))\n",
    "\n",
    "print(binary(N_list))"
   ]
  },
  {
   "cell_type": "code",
   "execution_count": null,
   "metadata": {},
   "outputs": [],
   "source": []
  }
 ],
 "metadata": {
  "kernelspec": {
   "display_name": "Python 3",
   "language": "python",
   "name": "python3"
  },
  "language_info": {
   "codemirror_mode": {
    "name": "ipython",
    "version": 3
   },
   "file_extension": ".py",
   "mimetype": "text/x-python",
   "name": "python",
   "nbconvert_exporter": "python",
   "pygments_lexer": "ipython3",
   "version": "3.8.2"
  }
 },
 "nbformat": 4,
 "nbformat_minor": 5
}
