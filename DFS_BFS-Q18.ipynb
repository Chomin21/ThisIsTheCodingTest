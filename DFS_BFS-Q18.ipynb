{
 "cells": [
  {
   "cell_type": "code",
   "execution_count": 12,
   "id": "applied-balance",
   "metadata": {},
   "outputs": [
    {
     "name": "stdout",
     "output_type": "stream",
     "text": [
      "(()())()\n",
      "()\n",
      "()(())()\n"
     ]
    }
   ],
   "source": [
    "#DFS 문제\n",
    "#정확성 100, 1040점\n",
    "from collections import deque\n",
    "\n",
    "def solution(p):\n",
    "    num1 = 0\n",
    "    num2 = 0\n",
    "    u = deque()    \n",
    "    v = deque()\n",
    "    \n",
    "    #빈 문자열인 경우\n",
    "    if len(p) == 0:\n",
    "        return \"\"\n",
    "    #균형잡힌 괄호 문자열로 u와 v를 분리\n",
    "    for i in range(len(p)):\n",
    "        u.append(p[i])\n",
    "        if p[i] == '(':\n",
    "            num1 += 1\n",
    "        elif p[i] == ')':\n",
    "            num2 += 1\n",
    "        if num1 == num2:\n",
    "            break;\n",
    "\n",
    "    for i in range(num1+num2, len(p)):\n",
    "        v.append(p[i])\n",
    "            \n",
    "    #u가 올바른 문자열인 경우\n",
    "    if u[0] == '(' and u[len(u)-1] == ')':\n",
    "        u = ''.join(u)\n",
    "        v = ''.join(v)\n",
    "        return u + solution(v)\n",
    "    else: #올바른 문자열이 아닌 경우\n",
    "        s = \"\"\n",
    "        s = '(' + solution(v) + ')'\n",
    "        u.popleft()\n",
    "        u.pop()\n",
    "        for i in range(len(u)):\n",
    "            if u[i] == '(':\n",
    "                u[i] = ')'\n",
    "            else:\n",
    "                u[i] = '('\n",
    "        u = ''.join(u)\n",
    "        return s + u\n",
    "\n",
    "print(solution(\"(()())()\"))\n",
    "print(solution(\")(\"))\n",
    "print(solution(\"()))((()\"))"
   ]
  },
  {
   "cell_type": "code",
   "execution_count": null,
   "id": "unsigned-prison",
   "metadata": {},
   "outputs": [],
   "source": []
  }
 ],
 "metadata": {
  "kernelspec": {
   "display_name": "Python 3",
   "language": "python",
   "name": "python3"
  },
  "language_info": {
   "codemirror_mode": {
    "name": "ipython",
    "version": 3
   },
   "file_extension": ".py",
   "mimetype": "text/x-python",
   "name": "python",
   "nbconvert_exporter": "python",
   "pygments_lexer": "ipython3",
   "version": "3.9.1"
  }
 },
 "nbformat": 4,
 "nbformat_minor": 5
}
