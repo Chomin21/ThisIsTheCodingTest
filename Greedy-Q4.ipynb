{
 "cells": [
  {
   "cell_type": "code",
   "execution_count": 4,
   "id": "solid-belly",
   "metadata": {},
   "outputs": [
    {
     "name": "stdout",
     "output_type": "stream",
     "text": [
      "5\n",
      "3 2 1 1 9\n",
      "8\n"
     ]
    },
    {
     "data": {
      "text/plain": [
       "'\\nmake_all = list()\\n\\nmax_num = 0\\nfor i in num_list:\\n    max_num += i\\n\\nmin_num = min(num_list)\\n\\nif min_num > 1:\\n    print(1)\\n    \\nfor i in range(len(num_list)):\\n    for k in range(len(num_list)):\\n        if i == k:\\n            pass\\n        result = i + k\\n        make_all.append(result)\\n'"
      ]
     },
     "execution_count": 4,
     "metadata": {},
     "output_type": "execute_result"
    }
   ],
   "source": [
    "#만들 수 없는 문제\n",
    "#my answer\n",
    "#틀렸던 문제\n",
    "\n",
    "num = int(input())\n",
    "num_list = list(map(int, input().split()))\n",
    "num_list.sort()\n",
    "\n",
    "result = 1\n",
    "\n",
    "for i in num_list:\n",
    "    if result < i:\n",
    "        break\n",
    "    result += i\n",
    "    \n",
    "print(result)"
   ]
  }
 ],
 "metadata": {
  "kernelspec": {
   "display_name": "Python 3",
   "language": "python",
   "name": "python3"
  },
  "language_info": {
   "codemirror_mode": {
    "name": "ipython",
    "version": 3
   },
   "file_extension": ".py",
   "mimetype": "text/x-python",
   "name": "python",
   "nbconvert_exporter": "python",
   "pygments_lexer": "ipython3",
   "version": "3.9.1"
  }
 },
 "nbformat": 4,
 "nbformat_minor": 5
}
