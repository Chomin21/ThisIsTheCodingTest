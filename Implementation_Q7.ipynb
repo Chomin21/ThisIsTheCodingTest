{
 "cells": [
  {
   "cell_type": "code",
   "execution_count": 1,
   "metadata": {},
   "outputs": [
    {
     "name": "stdout",
     "output_type": "stream",
     "text": [
      "7755\n",
      "READY\n"
     ]
    }
   ],
   "source": [
    "#Lucky straight\n",
    "\n",
    "score = input()\n",
    "length = len(score)\n",
    "\n",
    "front = 0\n",
    "back = 0\n",
    "n = int(len(score)/2)\n",
    "for i in range(n):\n",
    "    front += int(score[i])\n",
    "    back += int(score[i+n])\n",
    "\n",
    "if front == back:\n",
    "    print(\"LUCKY\")\n",
    "else:\n",
    "    print(\"READY\")\n"
   ]
  },
  {
   "cell_type": "code",
   "execution_count": null,
   "metadata": {},
   "outputs": [],
   "source": []
  }
 ],
 "metadata": {
  "kernelspec": {
   "display_name": "Python 3",
   "language": "python",
   "name": "python3"
  },
  "language_info": {
   "codemirror_mode": {
    "name": "ipython",
    "version": 3
   },
   "file_extension": ".py",
   "mimetype": "text/x-python",
   "name": "python",
   "nbconvert_exporter": "python",
   "pygments_lexer": "ipython3",
   "version": "3.8.2"
  }
 },
 "nbformat": 4,
 "nbformat_minor": 4
}
