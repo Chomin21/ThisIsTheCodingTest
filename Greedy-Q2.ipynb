{
 "cells": [
  {
   "cell_type": "code",
   "execution_count": 8,
   "id": "bright-kidney",
   "metadata": {},
   "outputs": [
    {
     "name": "stdout",
     "output_type": "stream",
     "text": [
      "20034\n",
      "24\n"
     ]
    }
   ],
   "source": [
    "#곱하기 혹은 더하기\n",
    "#my solution\n",
    "\n",
    "num = input() #\"02984\"\n",
    "num_list = []\n",
    "for a in num:\n",
    "    num_list.append(int(a))\n",
    "    \n",
    "result = 0\n",
    "\n",
    "for i in num_list:\n",
    "    if i == 0:\n",
    "        result += i\n",
    "    elif result == 0:\n",
    "        result += i\n",
    "    else:\n",
    "        result *= i\n",
    "        \n",
    "print(result)\n",
    "\n"
   ]
  },
  {
   "cell_type": "code",
   "execution_count": null,
   "id": "brilliant-chosen",
   "metadata": {},
   "outputs": [],
   "source": [
    "#book solution\n",
    "data = input()\n",
    "\n",
    "#첫번째 문자를 숫자로 변경하여 대입\n",
    "result = int(data[0]) #현재까지의 연산\n",
    "\n",
    "for i in range(1, len(data)):\n",
    "    #두 수 중에서 하나라도 '0' 혹은 '1'인 경우, 곱하기보다는 더하기 수행\n",
    "    num = int(data[i])\n",
    "    if num <= 1 or result <= 1 :\n",
    "        result += num\n",
    "    else:\n",
    "        result *= num\n",
    "        \n",
    "print(result)"
   ]
  }
 ],
 "metadata": {
  "kernelspec": {
   "display_name": "Python 3",
   "language": "python",
   "name": "python3"
  },
  "language_info": {
   "codemirror_mode": {
    "name": "ipython",
    "version": 3
   },
   "file_extension": ".py",
   "mimetype": "text/x-python",
   "name": "python",
   "nbconvert_exporter": "python",
   "pygments_lexer": "ipython3",
   "version": "3.9.1"
  }
 },
 "nbformat": 4,
 "nbformat_minor": 5
}
